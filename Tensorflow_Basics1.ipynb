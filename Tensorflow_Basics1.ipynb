{
  "nbformat": 4,
  "nbformat_minor": 0,
  "metadata": {
    "colab": {
      "name": "Tensorflow_Basics1.ipynb",
      "provenance": [],
      "collapsed_sections": []
    },
    "kernelspec": {
      "name": "python3",
      "display_name": "Python 3"
    },
    "language_info": {
      "name": "python"
    }
  },
  "cells": [
    {
      "cell_type": "code",
      "execution_count": 2,
      "metadata": {
        "id": "J87dGoG_5Coj"
      },
      "outputs": [],
      "source": [
        "import tensorflow as tf"
      ]
    },
    {
      "cell_type": "code",
      "source": [
        "# Intitialization \n",
        "# Mathematical operation of tensor \n",
        "# Indexing\n",
        "# Reshaping \n"
      ],
      "metadata": {
        "colab": {
          "base_uri": "https://localhost:8080/",
          "height": 35
        },
        "id": "Gxy0DABl5Mjk",
        "outputId": "6306b5d5-dca6-41f8-9cd6-503856c8658d"
      },
      "execution_count": 3,
      "outputs": [
        {
          "output_type": "execute_result",
          "data": {
            "application/vnd.google.colaboratory.intrinsic+json": {
              "type": "string"
            },
            "text/plain": [
              "'2.8.0'"
            ]
          },
          "metadata": {},
          "execution_count": 3
        }
      ]
    },
    {
      "cell_type": "code",
      "source": [
        "from numpy import float32\n",
        "# Intitialization : \n",
        "tf.constant(3,shape=(1,1),dtype=float32) \n",
        "\n",
        "# 2 * 2 matrix \n",
        "tf.constant(3,shape=(2,4))\n",
        "\n",
        "tf.constant([[1,2,3],[1,12,2]]) \n",
        "\n",
        "tf.zeros((3,3)) # one matrix \n",
        "tf.ones((2,2))  # Zero Matrix \n",
        "\n",
        "tf.eye(3,3)  # Identity Matrix \n",
        "tf.random.normal((3,2),mean=0,stddev=1)   # To check Normal Distribution \n",
        "tf.random.uniform((3,3),minval=1,maxval=3) # Uniform Distribution \n",
        "\n",
        "# tensor also has there range variable \n",
        "for i in tf.range(start=3,limit=10,delta=3):\n",
        "  print(i)\n",
        "\n",
        "x = 21.2222\n",
        "# Convert into any type easily \n",
        "tf.cast(x,dtype=tf.int32)"
      ],
      "metadata": {
        "colab": {
          "base_uri": "https://localhost:8080/"
        },
        "id": "Ph447RqX5NJK",
        "outputId": "15f52a99-dfb5-4b4b-e1de-63ad5fd6d0fb"
      },
      "execution_count": 42,
      "outputs": [
        {
          "output_type": "stream",
          "name": "stdout",
          "text": [
            "tf.Tensor(3, shape=(), dtype=int32)\n",
            "tf.Tensor(6, shape=(), dtype=int32)\n",
            "tf.Tensor(9, shape=(), dtype=int32)\n"
          ]
        },
        {
          "output_type": "execute_result",
          "data": {
            "text/plain": [
              "<tf.Tensor: shape=(), dtype=int32, numpy=21>"
            ]
          },
          "metadata": {},
          "execution_count": 42
        }
      ]
    },
    {
      "cell_type": "code",
      "source": [
        "# Mathematical Operation\n",
        "x1 = tf.constant([[1,1,1],[2,3,1]])\n",
        "x2 = tf.constant([1,2,3])\n",
        "x3 = tf.add(x1,x2)\n",
        "print(x1,x2)\n",
        "print(x3)\n",
        "\n",
        "x3 = tf.subtract(x1,x2)\n",
        "print(x3)\n",
        "\n",
        "x3 = tf.divide(x1,x2)\n",
        "print(x3)\n",
        "\n",
        "x3 = tf.multiply(x1,x2)\n",
        "print(x3)\n",
        "print(\"*\"*3)\n",
        "x3 = tf.tensordot(x1,x2,axes=1)\n",
        "print(x3)\n",
        "c1=tf.constant([1,1])\n",
        "c2=tf.constant([2,3])\n",
        "\n",
        "\n",
        "\n",
        "\n",
        "# product sum\n",
        "c4 = tf.tensordot(c1,c2,axes=1)\n",
        "print(c4)   # They will return the same result \n",
        "c3 = tf.reduce_sum(c1*c2,axis=0)\n",
        "print(c3)   \n",
        "print(c1 ** 3)\n",
        "\n",
        "# Matrix multiplication\n",
        "a=tf.random.normal((2,3))\n",
        "b = tf.random.normal((3,4))\n",
        "c = tf.matmul(a,b)\n",
        "print(c)\n",
        "c = a @ b\n",
        "print(c)\n",
        "\n",
        "\n",
        "# Indexing \n",
        "x5=tf.range(11)\n",
        "print(x5[:])\n",
        "\n",
        "x6=tf.constant([[1,2],[2,4]])\n",
        "print(x6)\n",
        "\n",
        "x6[1:]\n",
        "# ind=(x6[:])\n",
        "# x_ind = tf.gather(x6,ind)\n",
        "# print(x_ind)\n",
        "\n",
        "\n",
        "# RESHAPING \n",
        "t1=tf.range(9)\n",
        "t2=tf.reshape(t1,(3,3))\n",
        "t3 = tf.transpose(t2)\n",
        "print(t3)"
      ],
      "metadata": {
        "colab": {
          "base_uri": "https://localhost:8080/"
        },
        "id": "Fc9NWhq35NP_",
        "outputId": "3ed28799-c653-4b4f-8d18-f3c807638ff9"
      },
      "execution_count": 28,
      "outputs": [
        {
          "output_type": "stream",
          "name": "stdout",
          "text": [
            "tf.Tensor(\n",
            "[[1 1 1]\n",
            " [2 3 1]], shape=(2, 3), dtype=int32) tf.Tensor([1 2 3], shape=(3,), dtype=int32)\n",
            "tf.Tensor(\n",
            "[[2 3 4]\n",
            " [3 5 4]], shape=(2, 3), dtype=int32)\n",
            "tf.Tensor(\n",
            "[[ 0 -1 -2]\n",
            " [ 1  1 -2]], shape=(2, 3), dtype=int32)\n",
            "tf.Tensor(\n",
            "[[1.         0.5        0.33333333]\n",
            " [2.         1.5        0.33333333]], shape=(2, 3), dtype=float64)\n",
            "tf.Tensor(\n",
            "[[1 2 3]\n",
            " [2 6 3]], shape=(2, 3), dtype=int32)\n",
            "***\n",
            "tf.Tensor([ 6 11], shape=(2,), dtype=int32)\n",
            "tf.Tensor(5, shape=(), dtype=int32)\n",
            "tf.Tensor(5, shape=(), dtype=int32)\n",
            "tf.Tensor([1 1], shape=(2,), dtype=int32)\n",
            "tf.Tensor(\n",
            "[[-3.6399665  -1.4099743   1.5716612   1.0960695 ]\n",
            " [ 1.8920189  -0.5182395  -1.2415419  -0.76029646]], shape=(2, 4), dtype=float32)\n",
            "tf.Tensor(\n",
            "[[-3.6399665  -1.4099743   1.5716612   1.0960695 ]\n",
            " [ 1.8920189  -0.5182395  -1.2415419  -0.76029646]], shape=(2, 4), dtype=float32)\n",
            "tf.Tensor([ 0  1  2  3  4  5  6  7  8  9 10], shape=(11,), dtype=int32)\n",
            "tf.Tensor(\n",
            "[[1 2]\n",
            " [2 4]], shape=(2, 2), dtype=int32)\n",
            "tf.Tensor(\n",
            "[[0 3 6]\n",
            " [1 4 7]\n",
            " [2 5 8]], shape=(3, 3), dtype=int32)\n"
          ]
        }
      ]
    },
    {
      "cell_type": "code",
      "source": [
        ""
      ],
      "metadata": {
        "id": "0ke0AL9x5NXM"
      },
      "execution_count": null,
      "outputs": []
    }
  ]
}