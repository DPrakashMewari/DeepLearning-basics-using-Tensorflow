{
 "cells": [
  {
   "cell_type": "code",
   "execution_count": null,
   "metadata": {},
   "outputs": [],
   "source": [
    "# Need to Make Person folder and Label wise Images\n",
    "# Create some folder to detect Your Friend Images \n",
    "\n",
    "# Image Normalize and trained via Convolutional Model"
   ]
  },
  {
   "cell_type": "code",
   "execution_count": 11,
   "metadata": {},
   "outputs": [
    {
     "name": "stdout",
     "output_type": "stream",
     "text": [
      "Found 14 images belonging to 4 classes.\n"
     ]
    }
   ],
   "source": [
    "import os\n",
    "import numpy as np\n",
    "import tensorflow as tf\n",
    "from tensorflow.keras import layers, models\n",
    "from tensorflow.keras.preprocessing.image import ImageDataGenerator\n",
    "\n",
    "# Step 3: Load and Preprocess the Dataset\n",
    "image_size = (64, 64)  # Resize images to a smaller size for simplicity\n",
    "batch_size = 2  # You can increase the batch size if you have more memory\n",
    "\n",
    "train_data_generator = ImageDataGenerator(rescale=1./255)  # Normalize pixel values\n",
    "train_data = train_data_generator.flow_from_directory(\n",
    "    directory='person_images',\n",
    "    target_size=image_size,\n",
    "    batch_size=batch_size,\n",
    "    class_mode='categorical',\n",
    "    shuffle=True\n",
    ")\n",
    "\n",
    "num_classes = len(train_data.class_indices)\n",
    "\n"
   ]
  },
  {
   "cell_type": "code",
   "execution_count": 12,
   "metadata": {},
   "outputs": [
    {
     "name": "stdout",
     "output_type": "stream",
     "text": [
      "Model: \"sequential_1\"\n",
      "_________________________________________________________________\n",
      " Layer (type)                Output Shape              Param #   \n",
      "=================================================================\n",
      " conv2d_2 (Conv2D)           (None, 62, 62, 32)        896       \n",
      "                                                                 \n",
      " max_pooling2d_2 (MaxPooling  (None, 31, 31, 32)       0         \n",
      " 2D)                                                             \n",
      "                                                                 \n",
      " conv2d_3 (Conv2D)           (None, 29, 29, 64)        18496     \n",
      "                                                                 \n",
      " max_pooling2d_3 (MaxPooling  (None, 14, 14, 64)       0         \n",
      " 2D)                                                             \n",
      "                                                                 \n",
      " flatten_1 (Flatten)         (None, 12544)             0         \n",
      "                                                                 \n",
      " dense_2 (Dense)             (None, 128)               1605760   \n",
      "                                                                 \n",
      " dense_3 (Dense)             (None, 4)                 516       \n",
      "                                                                 \n",
      "=================================================================\n",
      "Total params: 1,625,668\n",
      "Trainable params: 1,625,668\n",
      "Non-trainable params: 0\n",
      "_________________________________________________________________\n",
      "Epoch 1/20\n",
      "7/7 [==============================] - 2s 120ms/step - loss: 1.3563 - accuracy: 0.5714\n",
      "Epoch 2/20\n",
      "7/7 [==============================] - 1s 76ms/step - loss: 0.6485 - accuracy: 0.7857\n",
      "Epoch 3/20\n",
      "7/7 [==============================] - 1s 71ms/step - loss: 0.5999 - accuracy: 0.7143\n",
      "Epoch 4/20\n",
      "7/7 [==============================] - 1s 95ms/step - loss: 0.3713 - accuracy: 0.8571\n",
      "Epoch 5/20\n",
      "7/7 [==============================] - 1s 68ms/step - loss: 0.3280 - accuracy: 0.9286\n",
      "Epoch 6/20\n",
      "7/7 [==============================] - 1s 88ms/step - loss: 0.1396 - accuracy: 1.0000\n",
      "Epoch 7/20\n",
      "7/7 [==============================] - 1s 87ms/step - loss: 0.0545 - accuracy: 1.0000\n",
      "Epoch 8/20\n",
      "7/7 [==============================] - 1s 84ms/step - loss: 0.0236 - accuracy: 1.0000\n",
      "Epoch 9/20\n",
      "7/7 [==============================] - 1s 77ms/step - loss: 0.0039 - accuracy: 1.0000\n",
      "Epoch 10/20\n",
      "7/7 [==============================] - 1s 83ms/step - loss: 0.0023 - accuracy: 1.0000\n",
      "Epoch 11/20\n",
      "7/7 [==============================] - 1s 83ms/step - loss: 0.0014 - accuracy: 1.0000\n",
      "Epoch 12/20\n",
      "7/7 [==============================] - 1s 76ms/step - loss: 9.3972e-04 - accuracy: 1.0000\n",
      "Epoch 13/20\n",
      "7/7 [==============================] - 1s 80ms/step - loss: 6.3087e-04 - accuracy: 1.0000\n",
      "Epoch 14/20\n",
      "7/7 [==============================] - 1s 86ms/step - loss: 4.8488e-04 - accuracy: 1.0000\n",
      "Epoch 15/20\n",
      "7/7 [==============================] - 1s 82ms/step - loss: 3.8944e-04 - accuracy: 1.0000\n",
      "Epoch 16/20\n",
      "7/7 [==============================] - 1s 78ms/step - loss: 3.4311e-04 - accuracy: 1.0000\n",
      "Epoch 17/20\n",
      "7/7 [==============================] - 1s 85ms/step - loss: 3.0568e-04 - accuracy: 1.0000\n",
      "Epoch 18/20\n",
      "7/7 [==============================] - 1s 82ms/step - loss: 2.8496e-04 - accuracy: 1.0000\n",
      "Epoch 19/20\n",
      "7/7 [==============================] - 1s 79ms/step - loss: 2.5925e-04 - accuracy: 1.0000\n",
      "Epoch 20/20\n",
      "7/7 [==============================] - 1s 81ms/step - loss: 2.4109e-04 - accuracy: 1.0000\n"
     ]
    },
    {
     "data": {
      "text/plain": [
       "<keras.callbacks.History at 0x2145bb9b710>"
      ]
     },
     "execution_count": 12,
     "metadata": {},
     "output_type": "execute_result"
    }
   ],
   "source": [
    "# Step 4: Define the CNN Model\n",
    "model = models.Sequential([\n",
    "    layers.Conv2D(32, kernel_size=(3, 3), activation='relu', input_shape=(image_size[0], image_size[1], 3)),\n",
    "    layers.MaxPooling2D(pool_size=(2, 2)),\n",
    "    layers.Conv2D(64, kernel_size=(3, 3), activation='relu'),\n",
    "    layers.MaxPooling2D(pool_size=(2, 2)),\n",
    "    layers.Flatten(),\n",
    "    layers.Dense(128, activation='relu'),\n",
    "    layers.Dense(num_classes, activation='softmax')\n",
    "])\n",
    "\n",
    "model.summary()\n",
    "\n",
    "# Step 5: Compile the Model\n",
    "model.compile(optimizer='adam', loss='categorical_crossentropy', metrics=['accuracy'])\n",
    "\n",
    "# Step 6: Train the Model\n",
    "epochs = 20  # Increase the number of epochs if needed\n",
    "model.fit(train_data, epochs=epochs)\n",
    "\n"
   ]
  },
  {
   "cell_type": "code",
   "execution_count": 22,
   "metadata": {},
   "outputs": [
    {
     "data": {
      "image/png": "[encoded data removed]",
      "text/plain": [
       "<Figure size 1200x600 with 32 Axes>"
      ]
     },
     "metadata": {},
     "output_type": "display_data"
    }
   ],
   "source": [
    "# Get the weights of the first convolutional layer (assuming it is the first layer)\n",
    "conv1_layer = model.get_layer(index=0)\n",
    "conv1_weights = conv1_layer.get_weights()[0]\n",
    "\n",
    "# Normalize the weights to [0, 1] for visualization\n",
    "normalized_weights = (conv1_weights - np.min(conv1_weights)) / (np.max(conv1_weights) - np.min(conv1_weights))\n",
    "\n",
    "# Plot the filters as images\n",
    "num_filters = conv1_weights.shape[-1]\n",
    "fig, axs = plt.subplots(4, 8, figsize=(12, 6))\n",
    "axs = axs.flatten()\n",
    "\n",
    "for i in range(num_filters):\n",
    "    axs[i].imshow(normalized_weights[:, :, 0, i], cmap='gray')\n",
    "    axs[i].axis('off')\n",
    "\n",
    "plt.show()\n"
   ]
  },
  {
   "cell_type": "code",
   "execution_count": 56,
   "metadata": {},
   "outputs": [
    {
     "name": "stdout",
     "output_type": "stream",
     "text": [
      "1/1 [==============================] - 0s 23ms/step\n",
      "Predicted Person: aysh\n"
     ]
    }
   ],
   "source": [
    "import cv2\n",
    "import matplotlib.pyplot as  plt \n",
    "test_image_path = 'test2.png'\n",
    "test_image = tf.keras.preprocessing.image.load_img(test_image_path, target_size=image_size)\n",
    "# img = cv2.imread(test_image_path)\n",
    "# cv2.cvtColor(img, cv2.COLOR_BGR2RGB)\n",
    "# plt.imshow(img)\n",
    "# plt.show()\n",
    "\n",
    "\n",
    "\n",
    "test_image = tf.keras.preprocessing.image.img_to_array(test_image)\n",
    "test_image = np.expand_dims(test_image, axis=0) / 255.0  # Normalize the test image\n",
    "\n",
    "# Make the prediction\n",
    "prediction = model.predict(test_image)\n",
    "predicted_class = np.argmax(prediction)\n",
    "\n",
    "# Get the class labels from the training data generator\n",
    "class_labels = list(train_data.class_indices.keys())\n",
    "\n",
    "# Get the predicted person's name\n",
    "predicted_person = class_labels[predicted_class]\n",
    "\n",
    "print(\"Predicted Person:\", predicted_person)\n"
   ]
  }
 ],
 "metadata": {
  "kernelspec": {
   "display_name": "Python 3",
   "language": "python",
   "name": "python3"
  },
  "language_info": {
   "codemirror_mode": {
    "name": "ipython",
    "version": 3
   },
   "file_extension": ".py",
   "mimetype": "text/x-python",
   "name": "python",
   "nbconvert_exporter": "python",
   "pygments_lexer": "ipython3",
   "version": "3.11.1"
  },
  "orig_nbformat": 4
 },
 "nbformat": 4,
 "nbformat_minor": 2
}
