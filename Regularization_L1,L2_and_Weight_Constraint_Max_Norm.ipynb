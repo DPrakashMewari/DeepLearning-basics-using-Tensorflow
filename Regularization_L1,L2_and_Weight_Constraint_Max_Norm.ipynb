{
  "nbformat": 4,
  "nbformat_minor": 0,
  "metadata": {
    "colab": {
      "provenance": []
    },
    "kernelspec": {
      "name": "python3",
      "display_name": "Python 3"
    },
    "language_info": {
      "name": "python"
    }
  },
  "cells": [
    {
      "cell_type": "code",
      "execution_count": 2,
      "metadata": {
        "id": "3HEJbJYYp0PE"
      },
      "outputs": [],
      "source": [
        "from sklearn.datasets import load_iris\n",
        "from sklearn.model_selection import train_test_split\n",
        "from keras.models import Sequential\n",
        "from keras.layers import Dense\n",
        "from keras.constraints import max_norm\n",
        "from keras.regularizers import l1, l2\n",
        "import numpy as np\n"
      ]
    },
    {
      "cell_type": "code",
      "source": [
        "# Load the Iris dataset\n",
        "iris = load_iris()\n",
        "X = iris.data\n",
        "y = iris.target"
      ],
      "metadata": {
        "id": "917IhPfwqMSD"
      },
      "execution_count": 3,
      "outputs": []
    },
    {
      "cell_type": "code",
      "source": [
        "# Split the dataset into train and test sets\n",
        "X_train, X_test, y_train, y_test = train_test_split(X, y, test_size=0.2, random_state=42)\n"
      ],
      "metadata": {
        "id": "UrFY7hxrqNWi"
      },
      "execution_count": 5,
      "outputs": []
    },
    {
      "cell_type": "code",
      "source": [
        "# Build a simple neural network\n",
        "def build_model(regularizer, constraint):\n",
        "    model = Sequential()\n",
        "    model.add(Dense(64, activation='relu', input_shape=(4,), kernel_regularizer=regularizer, kernel_constraint=constraint))\n",
        "    model.add(Dense(3, activation='softmax'))\n",
        "    model.compile(optimizer='adam', loss='sparse_categorical_crossentropy', metrics=['accuracy'])\n",
        "    return model"
      ],
      "metadata": {
        "id": "oRKpMTM4qNhN"
      },
      "execution_count": 6,
      "outputs": []
    },
    {
      "cell_type": "code",
      "source": [
        "# Build and train models with different regularization and constraint settings\n",
        "regularizers = [None, l1(0.01), l2(0.01)]\n",
        "constraints = [None, max_norm(2.0)]\n",
        "\n",
        "results = []\n",
        "\n",
        "for regularizer in regularizers:\n",
        "    for constraint in constraints:\n",
        "        model = build_model(regularizer, constraint)\n",
        "        model.fit(X_train, y_train, epochs=50, batch_size=8, verbose=0)\n",
        "        loss, accuracy = model.evaluate(X_test, y_test, verbose=0)\n",
        "        results.append((regularizer, constraint, accuracy))\n"
      ],
      "metadata": {
        "colab": {
          "base_uri": "https://localhost:8080/"
        },
        "id": "-U0oY1J4qNrN",
        "outputId": "d47412b8-cefb-48ae-ae98-0dc0b96a7f8b"
      },
      "execution_count": 7,
      "outputs": [
        {
          "output_type": "stream",
          "name": "stderr",
          "text": [
            "WARNING:tensorflow:5 out of the last 5 calls to <function Model.make_test_function.<locals>.test_function at 0x7dcf064b60e0> triggered tf.function retracing. Tracing is expensive and the excessive number of tracings could be due to (1) creating @tf.function repeatedly in a loop, (2) passing tensors with different shapes, (3) passing Python objects instead of tensors. For (1), please define your @tf.function outside of the loop. For (2), @tf.function has reduce_retracing=True option that can avoid unnecessary retracing. For (3), please refer to https://www.tensorflow.org/guide/function#controlling_retracing and https://www.tensorflow.org/api_docs/python/tf/function for  more details.\n",
            "WARNING:tensorflow:6 out of the last 6 calls to <function Model.make_test_function.<locals>.test_function at 0x7dcf064b5510> triggered tf.function retracing. Tracing is expensive and the excessive number of tracings could be due to (1) creating @tf.function repeatedly in a loop, (2) passing tensors with different shapes, (3) passing Python objects instead of tensors. For (1), please define your @tf.function outside of the loop. For (2), @tf.function has reduce_retracing=True option that can avoid unnecessary retracing. For (3), please refer to https://www.tensorflow.org/guide/function#controlling_retracing and https://www.tensorflow.org/api_docs/python/tf/function for  more details.\n"
          ]
        }
      ]
    },
    {
      "cell_type": "code",
      "source": [
        "# Display results\n",
        "for result in results:\n",
        "    print(\"Regularizer:\", result[0], \"| Constraint:\", result[1], \"| Accuracy:\", result[2])"
      ],
      "metadata": {
        "colab": {
          "base_uri": "https://localhost:8080/"
        },
        "id": "WT8WrsSruYCn",
        "outputId": "55a16c6a-adac-4d60-ad84-716561900a75"
      },
      "execution_count": 8,
      "outputs": [
        {
          "output_type": "stream",
          "name": "stdout",
          "text": [
            "Regularizer: None | Constraint: None | Accuracy: 1.0\n",
            "Regularizer: None | Constraint: <keras.constraints.MaxNorm object at 0x7dcf18a6be80> | Accuracy: 1.0\n",
            "Regularizer: <keras.regularizers.L1 object at 0x7dcf18a6b160> | Constraint: None | Accuracy: 1.0\n",
            "Regularizer: <keras.regularizers.L1 object at 0x7dcf18a6b160> | Constraint: <keras.constraints.MaxNorm object at 0x7dcf18a6be80> | Accuracy: 0.9666666388511658\n",
            "Regularizer: <keras.regularizers.L2 object at 0x7dcfaabc7df0> | Constraint: None | Accuracy: 1.0\n",
            "Regularizer: <keras.regularizers.L2 object at 0x7dcfaabc7df0> | Constraint: <keras.constraints.MaxNorm object at 0x7dcf18a6be80> | Accuracy: 1.0\n"
          ]
        }
      ]
    },
    {
      "cell_type": "code",
      "source": [
        "# Above All Used to address overfitting and ensuring this will help to generalize well on new data\n",
        "# Many more were Such as Dropout, Early Stopping,Ensemble_Technique,Cross Validation ."
      ],
      "metadata": {
        "id": "3GJFDsBquYpX"
      },
      "execution_count": null,
      "outputs": []
    }
  ]
}