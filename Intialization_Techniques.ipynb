{
  "nbformat": 4,
  "nbformat_minor": 0,
  "metadata": {
    "colab": {
      "provenance": []
    },
    "kernelspec": {
      "name": "python3",
      "display_name": "Python 3"
    },
    "language_info": {
      "name": "python"
    }
  },
  "cells": [
    {
      "cell_type": "code",
      "source": [
        "import numpy as np\n",
        "import tensorflow as tf\n",
        "from tensorflow.keras.datasets import mnist\n",
        "from tensorflow.keras.models import Sequential\n",
        "from tensorflow.keras.layers import Dense\n",
        "from tensorflow.keras.optimizers import SGD\n",
        "from tensorflow.keras.utils import to_categorical"
      ],
      "metadata": {
        "id": "Ty3EmiLsBz7Y"
      },
      "execution_count": 1,
      "outputs": []
    },
    {
      "cell_type": "code",
      "execution_count": 2,
      "metadata": {
        "colab": {
          "base_uri": "https://localhost:8080/"
        },
        "id": "GeActWKQBQsn",
        "outputId": "04e2fad1-6b41-4c13-8f3c-f19a3064dfde"
      },
      "outputs": [
        {
          "output_type": "stream",
          "name": "stdout",
          "text": [
            "Downloading data from https://storage.googleapis.com/tensorflow/tf-keras-datasets/mnist.npz\n",
            "11490434/11490434 [==============================] - 0s 0us/step\n"
          ]
        },
        {
          "output_type": "execute_result",
          "data": {
            "text/plain": [
              "((60000, 28, 28), (60000,), (10000, 28, 28), (10000,))"
            ]
          },
          "metadata": {},
          "execution_count": 2
        }
      ],
      "source": [
        "(x_train,y_train),(x_test,y_test) = mnist.load_data()\n",
        "x_train.shape,y_train.shape,x_test.shape,y_test.shape"
      ]
    },
    {
      "cell_type": "code",
      "source": [
        "x_train = x_train.reshape((-1, 28 * 28)) / 255.0\n",
        "x_test = x_test.reshape((-1, 28 * 28)) / 255.0\n",
        "y_train = to_categorical(y_train, num_classes=10)\n",
        "y_test = to_categorical(y_test, num_classes=10)"
      ],
      "metadata": {
        "id": "x0D_LfzbCw-5"
      },
      "execution_count": 3,
      "outputs": []
    },
    {
      "cell_type": "code",
      "source": [
        "# Define a function to create and compile the model\n",
        "def create_model(init_type):\n",
        "  \"\"\"\n",
        "  Intilization Method will be passing here\n",
        "  \"\"\"\n",
        "  model = Sequential()\n",
        "  model.add(Dense(128, input_shape=(784,), kernel_initializer=init_type, activation='relu'))\n",
        "  model.add(Dense(10, activation='softmax'))\n",
        "  model.compile(optimizer=SGD(learning_rate=0.01), loss='categorical_crossentropy', metrics=['accuracy'])\n",
        "  return model"
      ],
      "metadata": {
        "id": "SZIxrU-CCxCb"
      },
      "execution_count": 6,
      "outputs": []
    },
    {
      "cell_type": "code",
      "source": [
        "# List of weight initialization techniques\n",
        "weight_inits = ['zeros', 'random_uniform', 'glorot_uniform', 'he_uniform', 'lecun_uniform']\n"
      ],
      "metadata": {
        "id": "1MCFFFsECxIR"
      },
      "execution_count": 7,
      "outputs": []
    },
    {
      "cell_type": "code",
      "source": [
        "for init_type in weight_inits:\n",
        "    print(f\"Training model with {init_type} initialization...\")\n",
        "    model = create_model(init_type)\n",
        "    model.fit(x_train, y_train, batch_size=128, epochs=10, verbose=1)\n",
        "    loss, accuracy = model.evaluate(x_test, y_test, verbose=0)\n",
        "    print(f\"Test Loss: {loss}, Test Accuracy: {accuracy}\")\n",
        "    print()\n"
      ],
      "metadata": {
        "colab": {
          "base_uri": "https://localhost:8080/"
        },
        "id": "1AvpbZHUCxK_",
        "outputId": "88c85f93-167b-4922-935c-da20d8fde238"
      },
      "execution_count": 9,
      "outputs": [
        {
          "output_type": "stream",
          "name": "stdout",
          "text": [
            "Training model with zeros initialization...\n",
            "Epoch 1/10\n",
            "469/469 [==============================] - 3s 4ms/step - loss: 2.3021 - accuracy: 0.1115\n",
            "Epoch 2/10\n",
            "469/469 [==============================] - 2s 4ms/step - loss: 2.3015 - accuracy: 0.1124\n",
            "Epoch 3/10\n",
            "469/469 [==============================] - 2s 4ms/step - loss: 2.3013 - accuracy: 0.1124\n",
            "Epoch 4/10\n",
            "469/469 [==============================] - 2s 4ms/step - loss: 2.3012 - accuracy: 0.1124\n",
            "Epoch 5/10\n",
            "469/469 [==============================] - 2s 4ms/step - loss: 2.3012 - accuracy: 0.1124\n",
            "Epoch 6/10\n",
            "469/469 [==============================] - 2s 4ms/step - loss: 2.3012 - accuracy: 0.1124\n",
            "Epoch 7/10\n",
            "469/469 [==============================] - 3s 6ms/step - loss: 2.3012 - accuracy: 0.1124\n",
            "Epoch 8/10\n",
            "469/469 [==============================] - 2s 4ms/step - loss: 2.3012 - accuracy: 0.1124\n",
            "Epoch 9/10\n",
            "469/469 [==============================] - 2s 3ms/step - loss: 2.3012 - accuracy: 0.1124\n",
            "Epoch 10/10\n",
            "469/469 [==============================] - 2s 3ms/step - loss: 2.3012 - accuracy: 0.1124\n",
            "Test Loss: 2.301030158996582, Test Accuracy: 0.11349999904632568\n",
            "\n",
            "Training model with random_uniform initialization...\n",
            "Epoch 1/10\n",
            "469/469 [==============================] - 2s 4ms/step - loss: 1.1607 - accuracy: 0.7524\n",
            "Epoch 2/10\n",
            "469/469 [==============================] - 2s 4ms/step - loss: 0.5460 - accuracy: 0.8676\n",
            "Epoch 3/10\n",
            "469/469 [==============================] - 3s 5ms/step - loss: 0.4360 - accuracy: 0.8863\n",
            "Epoch 4/10\n",
            "469/469 [==============================] - 2s 4ms/step - loss: 0.3874 - accuracy: 0.8954\n",
            "Epoch 5/10\n",
            "469/469 [==============================] - 2s 4ms/step - loss: 0.3582 - accuracy: 0.9018\n",
            "Epoch 6/10\n",
            "469/469 [==============================] - 2s 4ms/step - loss: 0.3378 - accuracy: 0.9065\n",
            "Epoch 7/10\n",
            "469/469 [==============================] - 2s 4ms/step - loss: 0.3222 - accuracy: 0.9105\n",
            "Epoch 8/10\n",
            "469/469 [==============================] - 2s 4ms/step - loss: 0.3092 - accuracy: 0.9133\n",
            "Epoch 9/10\n",
            "469/469 [==============================] - 2s 4ms/step - loss: 0.2984 - accuracy: 0.9162\n",
            "Epoch 10/10\n",
            "469/469 [==============================] - 3s 6ms/step - loss: 0.2887 - accuracy: 0.9191\n",
            "Test Loss: 0.27147144079208374, Test Accuracy: 0.9233999848365784\n",
            "\n",
            "Training model with glorot_uniform initialization...\n",
            "Epoch 1/10\n",
            "469/469 [==============================] - 2s 4ms/step - loss: 1.1578 - accuracy: 0.7278\n",
            "Epoch 2/10\n",
            "469/469 [==============================] - 2s 4ms/step - loss: 0.5500 - accuracy: 0.8643\n",
            "Epoch 3/10\n",
            "469/469 [==============================] - 2s 4ms/step - loss: 0.4395 - accuracy: 0.8845\n",
            "Epoch 4/10\n",
            "469/469 [==============================] - 2s 4ms/step - loss: 0.3903 - accuracy: 0.8941\n",
            "Epoch 5/10\n",
            "469/469 [==============================] - 2s 5ms/step - loss: 0.3610 - accuracy: 0.9004\n",
            "Epoch 6/10\n",
            "469/469 [==============================] - 2s 5ms/step - loss: 0.3407 - accuracy: 0.9056\n",
            "Epoch 7/10\n",
            "469/469 [==============================] - 2s 4ms/step - loss: 0.3249 - accuracy: 0.9091\n",
            "Epoch 8/10\n",
            "469/469 [==============================] - 2s 4ms/step - loss: 0.3122 - accuracy: 0.9125\n",
            "Epoch 9/10\n",
            "469/469 [==============================] - 2s 4ms/step - loss: 0.3014 - accuracy: 0.9155\n",
            "Epoch 10/10\n",
            "469/469 [==============================] - 2s 4ms/step - loss: 0.2919 - accuracy: 0.9180\n",
            "Test Loss: 0.27788716554641724, Test Accuracy: 0.92330002784729\n",
            "\n",
            "Training model with he_uniform initialization...\n",
            "Epoch 1/10\n",
            "469/469 [==============================] - 2s 4ms/step - loss: 1.1409 - accuracy: 0.7284\n",
            "Epoch 2/10\n",
            "469/469 [==============================] - 2s 4ms/step - loss: 0.5388 - accuracy: 0.8643\n",
            "Epoch 3/10\n",
            "469/469 [==============================] - 2s 4ms/step - loss: 0.4341 - accuracy: 0.8849\n",
            "Epoch 4/10\n",
            "469/469 [==============================] - 2s 4ms/step - loss: 0.3871 - accuracy: 0.8946\n",
            "Epoch 5/10\n",
            "469/469 [==============================] - 2s 4ms/step - loss: 0.3586 - accuracy: 0.9002\n",
            "Epoch 6/10\n",
            "469/469 [==============================] - 2s 4ms/step - loss: 0.3383 - accuracy: 0.9054\n",
            "Epoch 7/10\n",
            "469/469 [==============================] - 3s 6ms/step - loss: 0.3229 - accuracy: 0.9087\n",
            "Epoch 8/10\n",
            "469/469 [==============================] - 2s 3ms/step - loss: 0.3102 - accuracy: 0.9122\n",
            "Epoch 9/10\n",
            "469/469 [==============================] - 2s 4ms/step - loss: 0.2993 - accuracy: 0.9151\n",
            "Epoch 10/10\n",
            "469/469 [==============================] - 2s 4ms/step - loss: 0.2898 - accuracy: 0.9178\n",
            "Test Loss: 0.2740135192871094, Test Accuracy: 0.9230999946594238\n",
            "\n",
            "Training model with lecun_uniform initialization...\n",
            "Epoch 1/10\n",
            "469/469 [==============================] - 2s 4ms/step - loss: 1.1551 - accuracy: 0.7316\n",
            "Epoch 2/10\n",
            "469/469 [==============================] - 2s 4ms/step - loss: 0.5500 - accuracy: 0.8658\n",
            "Epoch 3/10\n",
            "469/469 [==============================] - 3s 6ms/step - loss: 0.4389 - accuracy: 0.8854\n",
            "Epoch 4/10\n",
            "469/469 [==============================] - 2s 4ms/step - loss: 0.3892 - accuracy: 0.8949\n",
            "Epoch 5/10\n",
            "469/469 [==============================] - 2s 4ms/step - loss: 0.3595 - accuracy: 0.9017\n",
            "Epoch 6/10\n",
            "469/469 [==============================] - 2s 4ms/step - loss: 0.3388 - accuracy: 0.9063\n",
            "Epoch 7/10\n",
            "469/469 [==============================] - 2s 3ms/step - loss: 0.3231 - accuracy: 0.9098\n",
            "Epoch 8/10\n",
            "469/469 [==============================] - 2s 3ms/step - loss: 0.3103 - accuracy: 0.9132\n",
            "Epoch 9/10\n",
            "469/469 [==============================] - 2s 4ms/step - loss: 0.2993 - accuracy: 0.9162\n",
            "Epoch 10/10\n",
            "469/469 [==============================] - 3s 6ms/step - loss: 0.2898 - accuracy: 0.9194\n",
            "Test Loss: 0.27460572123527527, Test Accuracy: 0.9243000149726868\n",
            "\n"
          ]
        }
      ]
    },
    {
      "cell_type": "code",
      "source": [
        "# 60000/128"
      ],
      "metadata": {
        "colab": {
          "base_uri": "https://localhost:8080/"
        },
        "id": "ItjmZGGICxNi",
        "outputId": "3cdc4f15-f547-4829-d581-a55002e791e5"
      },
      "execution_count": 8,
      "outputs": [
        {
          "output_type": "execute_result",
          "data": {
            "text/plain": [
              "468.75"
            ]
          },
          "metadata": {},
          "execution_count": 8
        }
      ]
    },
    {
      "cell_type": "code",
      "source": [],
      "metadata": {
        "id": "FKJ2QnFyCxP8"
      },
      "execution_count": null,
      "outputs": []
    },
    {
      "cell_type": "code",
      "source": [],
      "metadata": {
        "id": "XUnvCoRUCxSf"
      },
      "execution_count": null,
      "outputs": []
    },
    {
      "cell_type": "code",
      "source": [],
      "metadata": {
        "id": "QVqWAfdqCxWF"
      },
      "execution_count": null,
      "outputs": []
    }
  ]
}